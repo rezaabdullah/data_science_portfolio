{
 "cells": [
  {
   "cell_type": "code",
   "execution_count": 1,
   "metadata": {},
   "outputs": [],
   "source": [
    "# import libraries here; add more as necessary\n",
    "import numpy as np\n",
    "import pandas as pd\n",
    "from collections import Counter\n",
    "from operator import itemgetter\n",
    "import time\n",
    "from matplotlib_venn import venn2\n",
    "import matplotlib.pyplot as plt\n",
    "import seaborn as sns\n",
    "from sklearn.impute import SimpleImputer\n",
    "from sklearn.preprocessing import StandardScaler\n",
    "from sklearn.decomposition import PCA\n",
    "from sklearn.cluster import KMeans\n",
    "from sklearn.model_selection import GridSearchCV\n",
    "from sklearn.linear_model import LogisticRegression\n",
    "from sklearn.ensemble import RandomForestClassifier\n",
    "from sklearn.ensemble import AdaBoostClassifier\n",
    "from sklearn.ensemble import GradientBoostingClassifier\n",
    "from sklearn.ensemble import BaggingClassifier\n",
    "from sklearn.pipeline import Pipeline\n",
    "\n",
    "# magic word for producing visualizations in notebook\n",
    "%matplotlib inline"
   ]
  },
  {
   "cell_type": "markdown",
   "metadata": {},
   "source": [
    "### Load Data\n",
    "Since the dataset is more than 1GB, I've used `c` engine instead of `python` to load data faster. In addition, there are mixed data in column 18 & 19; more specifically some `NaN` values are represented by `X` & `XX`. These values are set as `na_values`."
   ]
  },
  {
   "cell_type": "code",
   "execution_count": 2,
   "metadata": {},
   "outputs": [],
   "source": [
    "# Load data\n",
    "def load_data(azdias_filepath, customers_filepath, attributes_filepath, attributes_desc_filepath):\n",
    "    \"\"\"\n",
    "    Method for loading dataset from CSV & Excel\n",
    "    \n",
    "    Args:\n",
    "        azdias_filepath (str): Azdias filepath (Udacity_AZDIAS_052018)\n",
    "        customers_filepath (str): Customers filepath (Udacity_CUSTOMERS_052018)\n",
    "        attributes_filepath (str): Attributes filepath (DIAS Attributes - Values 2017.xlsx)\n",
    "        attributes_desc_filepath (str): Attributes description (DIAS Information Levels - Attributes 2017.xlsx)\n",
    "        \n",
    "    Output:\n",
    "        azdias: Pandas Dataframe\n",
    "        customers: Pandas Dataframe\n",
    "        attributes: Pandas Dataframe\n",
    "        attributes_desc: Pandas Dataframe\n",
    "    \"\"\"\n",
    "    \n",
    "    # Load \"azdias\" dataset\n",
    "    azdias = pd.read_csv(azdias_filepath, na_values=[\"X\", \"XX\"], engine=\"c\")\n",
    "    \n",
    "    # Load \"customers\" dataset\n",
    "    customers = pd.read_csv(customers_filepath, na_values=[\"X\", \"XX\"], engine=\"c\")\n",
    "    \n",
    "    # Load \"attributes\" dataset\n",
    "    attributes = pd.read_excel(attributes_filepath, header=1).loc[:, [\"Attribute\", \"Value\", \"Meaning\"]].fillna(method='ffill')\n",
    "    \n",
    "    # Load \"attributes_desc\"\n",
    "    attributes_desc = pd.read_excel(attributes_desc_filepath, header=1).loc[:, [\"Information level\", \"Attribute\", \"Description\",\n",
    "                                                                                \"Additional notes\"]].fillna(method='ffill')\n",
    "    \n",
    "    return azdias, customers, attributes, attributes_desc"
   ]
  },
  {
   "cell_type": "code",
   "execution_count": 3,
   "metadata": {},
   "outputs": [
    {
     "name": "stdout",
     "output_type": "stream",
     "text": [
      "Wall time: 36.7 s\n"
     ]
    }
   ],
   "source": [
    "%%time\n",
    "azdias_filepath = \"Udacity_AZDIAS_052018.csv\"\n",
    "customers_filepath = \"Udacity_CUSTOMERS_052018.csv\"\n",
    "attributes_filepath = \"DIAS Attributes - Values 2017.xlsx\"\n",
    "attributes_desc_filepath = \"DIAS Information Levels - Attributes 2017.xlsx\"\n",
    "\n",
    "azdias, customers, attributes, attributes_desc = load_data(azdias_filepath, customers_filepath, attributes_filepath,\n",
    "                                                         attributes_desc_filepath)"
   ]
  },
  {
   "cell_type": "markdown",
   "metadata": {},
   "source": [
    "### Explore the Datasets"
   ]
  },
  {
   "cell_type": "code",
   "execution_count": 4,
   "metadata": {},
   "outputs": [
    {
     "name": "stdout",
     "output_type": "stream",
     "text": [
      "General population dataset, azdias shape:  (891221, 366)\n",
      "Customers dataset, customers shape:  (191652, 369)\n"
     ]
    }
   ],
   "source": [
    "print(\"General population dataset, azdias shape: \", azdias.shape)\n",
    "print(\"Customers dataset, customers shape: \", customers.shape)"
   ]
  },
  {
   "cell_type": "code",
   "execution_count": 5,
   "metadata": {},
   "outputs": [],
   "source": [
    "# Create a dataframe that describes the information about each features\n",
    "def build_feat_info(df):\n",
    "    \"\"\"\n",
    "    Method for finding feature informations\n",
    "    \n",
    "    Args:\n",
    "        df (Pandas Dataframe): Dataframe that needs to be described\n",
    "        \n",
    "    Output:\n",
    "        Pandas Dataframe\n",
    "    \"\"\"\n",
    "    return pd.DataFrame({\n",
    "        'value_count' : [df[x].count() for x in df.columns],\n",
    "        'value_distinct' : [df[x].unique().shape[0] for x in df.columns],\n",
    "        'num_nans': [df[x].isnull().sum() for x in df.columns],\n",
    "        'percent_nans' : [round(df[x].isnull().sum()/df[x].shape[0], 3) for x in df.columns],\n",
    "    }, index = df.columns)"
   ]
  },
  {
   "cell_type": "code",
   "execution_count": 6,
   "metadata": {},
   "outputs": [
    {
     "name": "stdout",
     "output_type": "stream",
     "text": [
      "Wall time: 7.1 s\n"
     ]
    },
    {
     "data": {
      "text/html": [
       "<div>\n",
       "<style scoped>\n",
       "    .dataframe tbody tr th:only-of-type {\n",
       "        vertical-align: middle;\n",
       "    }\n",
       "\n",
       "    .dataframe tbody tr th {\n",
       "        vertical-align: top;\n",
       "    }\n",
       "\n",
       "    .dataframe thead th {\n",
       "        text-align: right;\n",
       "    }\n",
       "</style>\n",
       "<table border=\"1\" class=\"dataframe\">\n",
       "  <thead>\n",
       "    <tr style=\"text-align: right;\">\n",
       "      <th></th>\n",
       "      <th>value_count</th>\n",
       "      <th>value_distinct</th>\n",
       "      <th>num_nans</th>\n",
       "      <th>percent_nans</th>\n",
       "    </tr>\n",
       "  </thead>\n",
       "  <tbody>\n",
       "    <tr>\n",
       "      <td>ALTER_KIND4</td>\n",
       "      <td>1205</td>\n",
       "      <td>13</td>\n",
       "      <td>890016</td>\n",
       "      <td>0.999</td>\n",
       "    </tr>\n",
       "    <tr>\n",
       "      <td>ALTER_KIND3</td>\n",
       "      <td>6170</td>\n",
       "      <td>16</td>\n",
       "      <td>885051</td>\n",
       "      <td>0.993</td>\n",
       "    </tr>\n",
       "    <tr>\n",
       "      <td>ALTER_KIND2</td>\n",
       "      <td>29499</td>\n",
       "      <td>18</td>\n",
       "      <td>861722</td>\n",
       "      <td>0.967</td>\n",
       "    </tr>\n",
       "    <tr>\n",
       "      <td>ALTER_KIND1</td>\n",
       "      <td>81058</td>\n",
       "      <td>18</td>\n",
       "      <td>810163</td>\n",
       "      <td>0.909</td>\n",
       "    </tr>\n",
       "    <tr>\n",
       "      <td>EXTSEL992</td>\n",
       "      <td>237068</td>\n",
       "      <td>57</td>\n",
       "      <td>654153</td>\n",
       "      <td>0.734</td>\n",
       "    </tr>\n",
       "    <tr>\n",
       "      <td>...</td>\n",
       "      <td>...</td>\n",
       "      <td>...</td>\n",
       "      <td>...</td>\n",
       "      <td>...</td>\n",
       "    </tr>\n",
       "    <tr>\n",
       "      <td>D19_VERSAND_ANZ_24</td>\n",
       "      <td>891221</td>\n",
       "      <td>7</td>\n",
       "      <td>0</td>\n",
       "      <td>0.000</td>\n",
       "    </tr>\n",
       "    <tr>\n",
       "      <td>D19_VERSAND_DATUM</td>\n",
       "      <td>891221</td>\n",
       "      <td>10</td>\n",
       "      <td>0</td>\n",
       "      <td>0.000</td>\n",
       "    </tr>\n",
       "    <tr>\n",
       "      <td>D19_VERSAND_OFFLINE_DATUM</td>\n",
       "      <td>891221</td>\n",
       "      <td>10</td>\n",
       "      <td>0</td>\n",
       "      <td>0.000</td>\n",
       "    </tr>\n",
       "    <tr>\n",
       "      <td>D19_VERSAND_ONLINE_DATUM</td>\n",
       "      <td>891221</td>\n",
       "      <td>10</td>\n",
       "      <td>0</td>\n",
       "      <td>0.000</td>\n",
       "    </tr>\n",
       "    <tr>\n",
       "      <td>ALTERSKATEGORIE_GROB</td>\n",
       "      <td>891221</td>\n",
       "      <td>5</td>\n",
       "      <td>0</td>\n",
       "      <td>0.000</td>\n",
       "    </tr>\n",
       "  </tbody>\n",
       "</table>\n",
       "<p>366 rows × 4 columns</p>\n",
       "</div>"
      ],
      "text/plain": [
       "                           value_count  value_distinct  num_nans  percent_nans\n",
       "ALTER_KIND4                       1205              13    890016         0.999\n",
       "ALTER_KIND3                       6170              16    885051         0.993\n",
       "ALTER_KIND2                      29499              18    861722         0.967\n",
       "ALTER_KIND1                      81058              18    810163         0.909\n",
       "EXTSEL992                       237068              57    654153         0.734\n",
       "...                                ...             ...       ...           ...\n",
       "D19_VERSAND_ANZ_24              891221               7         0         0.000\n",
       "D19_VERSAND_DATUM               891221              10         0         0.000\n",
       "D19_VERSAND_OFFLINE_DATUM       891221              10         0         0.000\n",
       "D19_VERSAND_ONLINE_DATUM        891221              10         0         0.000\n",
       "ALTERSKATEGORIE_GROB            891221               5         0         0.000\n",
       "\n",
       "[366 rows x 4 columns]"
      ]
     },
     "execution_count": 6,
     "metadata": {},
     "output_type": "execute_result"
    }
   ],
   "source": [
    "%%time\n",
    "feat_info_azdias = build_feat_info(azdias)\n",
    "feat_info_azdias.sort_values(by=['percent_nans'], ascending=False)"
   ]
  },
  {
   "cell_type": "code",
   "execution_count": 7,
   "metadata": {},
   "outputs": [
    {
     "name": "stdout",
     "output_type": "stream",
     "text": [
      "Wall time: 1.88 s\n"
     ]
    },
    {
     "data": {
      "text/html": [
       "<div>\n",
       "<style scoped>\n",
       "    .dataframe tbody tr th:only-of-type {\n",
       "        vertical-align: middle;\n",
       "    }\n",
       "\n",
       "    .dataframe tbody tr th {\n",
       "        vertical-align: top;\n",
       "    }\n",
       "\n",
       "    .dataframe thead th {\n",
       "        text-align: right;\n",
       "    }\n",
       "</style>\n",
       "<table border=\"1\" class=\"dataframe\">\n",
       "  <thead>\n",
       "    <tr style=\"text-align: right;\">\n",
       "      <th></th>\n",
       "      <th>value_count</th>\n",
       "      <th>value_distinct</th>\n",
       "      <th>num_nans</th>\n",
       "      <th>percent_nans</th>\n",
       "    </tr>\n",
       "  </thead>\n",
       "  <tbody>\n",
       "    <tr>\n",
       "      <td>ALTER_KIND4</td>\n",
       "      <td>236</td>\n",
       "      <td>11</td>\n",
       "      <td>191416</td>\n",
       "      <td>0.999</td>\n",
       "    </tr>\n",
       "    <tr>\n",
       "      <td>ALTER_KIND3</td>\n",
       "      <td>1275</td>\n",
       "      <td>15</td>\n",
       "      <td>190377</td>\n",
       "      <td>0.993</td>\n",
       "    </tr>\n",
       "    <tr>\n",
       "      <td>ALTER_KIND2</td>\n",
       "      <td>5100</td>\n",
       "      <td>18</td>\n",
       "      <td>186552</td>\n",
       "      <td>0.973</td>\n",
       "    </tr>\n",
       "    <tr>\n",
       "      <td>ALTER_KIND1</td>\n",
       "      <td>11766</td>\n",
       "      <td>18</td>\n",
       "      <td>179886</td>\n",
       "      <td>0.939</td>\n",
       "    </tr>\n",
       "    <tr>\n",
       "      <td>KK_KUNDENTYP</td>\n",
       "      <td>79715</td>\n",
       "      <td>7</td>\n",
       "      <td>111937</td>\n",
       "      <td>0.584</td>\n",
       "    </tr>\n",
       "    <tr>\n",
       "      <td>...</td>\n",
       "      <td>...</td>\n",
       "      <td>...</td>\n",
       "      <td>...</td>\n",
       "      <td>...</td>\n",
       "    </tr>\n",
       "    <tr>\n",
       "      <td>D19_VERSAND_ANZ_24</td>\n",
       "      <td>191652</td>\n",
       "      <td>7</td>\n",
       "      <td>0</td>\n",
       "      <td>0.000</td>\n",
       "    </tr>\n",
       "    <tr>\n",
       "      <td>D19_VERSAND_DATUM</td>\n",
       "      <td>191652</td>\n",
       "      <td>10</td>\n",
       "      <td>0</td>\n",
       "      <td>0.000</td>\n",
       "    </tr>\n",
       "    <tr>\n",
       "      <td>D19_VERSAND_OFFLINE_DATUM</td>\n",
       "      <td>191652</td>\n",
       "      <td>10</td>\n",
       "      <td>0</td>\n",
       "      <td>0.000</td>\n",
       "    </tr>\n",
       "    <tr>\n",
       "      <td>D19_VERSAND_ONLINE_DATUM</td>\n",
       "      <td>191652</td>\n",
       "      <td>10</td>\n",
       "      <td>0</td>\n",
       "      <td>0.000</td>\n",
       "    </tr>\n",
       "    <tr>\n",
       "      <td>ALTERSKATEGORIE_GROB</td>\n",
       "      <td>191652</td>\n",
       "      <td>5</td>\n",
       "      <td>0</td>\n",
       "      <td>0.000</td>\n",
       "    </tr>\n",
       "  </tbody>\n",
       "</table>\n",
       "<p>369 rows × 4 columns</p>\n",
       "</div>"
      ],
      "text/plain": [
       "                           value_count  value_distinct  num_nans  percent_nans\n",
       "ALTER_KIND4                        236              11    191416         0.999\n",
       "ALTER_KIND3                       1275              15    190377         0.993\n",
       "ALTER_KIND2                       5100              18    186552         0.973\n",
       "ALTER_KIND1                      11766              18    179886         0.939\n",
       "KK_KUNDENTYP                     79715               7    111937         0.584\n",
       "...                                ...             ...       ...           ...\n",
       "D19_VERSAND_ANZ_24              191652               7         0         0.000\n",
       "D19_VERSAND_DATUM               191652              10         0         0.000\n",
       "D19_VERSAND_OFFLINE_DATUM       191652              10         0         0.000\n",
       "D19_VERSAND_ONLINE_DATUM        191652              10         0         0.000\n",
       "ALTERSKATEGORIE_GROB            191652               5         0         0.000\n",
       "\n",
       "[369 rows x 4 columns]"
      ]
     },
     "execution_count": 7,
     "metadata": {},
     "output_type": "execute_result"
    }
   ],
   "source": [
    "%%time\n",
    "feat_info_customers = build_feat_info(customers)\n",
    "feat_info_customers.sort_values(by=['percent_nans'], ascending=False)"
   ]
  },
  {
   "cell_type": "markdown",
   "metadata": {},
   "source": [
    "### Check Features \n",
    "#### Create Features List from `attributes` and `attributes_desc`"
   ]
  },
  {
   "cell_type": "code",
   "execution_count": 8,
   "metadata": {},
   "outputs": [
    {
     "name": "stdout",
     "output_type": "stream",
     "text": [
      "Unique attributes features: 4, Unique attributes_desc features: 8\n",
      "Total number of features:  322\n"
     ]
    }
   ],
   "source": [
    "# Features listed in \"attributes\" \n",
    "features_attributes = sorted(list(set(attributes.Attribute.tolist())))\n",
    "\n",
    "# Features listed in attributes_desc \n",
    "features_attributes_desc = attributes_desc.Attribute.tolist()\n",
    "\n",
    "# Multiple features in attributes_desc are grouped in a single string separated by whitespaces\n",
    "# Split the multiple features into separate string\n",
    "features_attributes_desc = sorted([feature for group_feature in features_attributes_desc for feature in group_feature.split()])\n",
    "\n",
    "# Check if there is any unique features in attributes or in attributes_desc\n",
    "unique_attributes_features = set(features_attributes) - set(features_attributes_desc)\n",
    "unique_attributes_desc_features = set(features_attributes_desc) - set(features_attributes)\n",
    "print(\"Unique attributes features: {}, Unique attributes_desc features: {}\".format(len(unique_attributes_features),\n",
    "                                                                                  len(unique_attributes_desc_features)))\n",
    "\n",
    "# Combine all features and create the features list\n",
    "features_list = sorted(list(set.union(set(features_attributes), set(features_attributes_desc))))\n",
    "print(\"Total number of features: \", len(features_list))"
   ]
  },
  {
   "cell_type": "markdown",
   "metadata": {},
   "source": [
    "#### Check Features of `azdias` and `customers`\n",
    "Using `features_list` generated earlier, check how many features are present in `azdias` and `customers`"
   ]
  },
  {
   "cell_type": "code",
   "execution_count": 9,
   "metadata": {},
   "outputs": [
    {
     "name": "stdout",
     "output_type": "stream",
     "text": [
      "Number of common features: azdias_feat: 276, customers_feat: 276\n"
     ]
    }
   ],
   "source": [
    "azdias_feat = azdias.columns.tolist()\n",
    "customers_feat = customers.columns.tolist()\n",
    "\n",
    "# First check if all the features from features_list are present in azdias and customers\n",
    "common_azdias_feat = set(azdias_feat) & set(features_list)\n",
    "common_customers_feat = set(customers_feat) & set(features_list)\n",
    "\n",
    "print(\"Number of common features: azdias_feat: {}, customers_feat: {}\".format(len(common_azdias_feat),\n",
    "                                                                              len(common_customers_feat)))"
   ]
  },
  {
   "cell_type": "markdown",
   "metadata": {},
   "source": [
    "**Observations:** There are 8 features in `features_list` which are present in `attributes_desc`, but not in `attributes`. These features have descriptions but their encoded values cannot be found in `attributes`. Let's explore these features and their values in `azdias` before further analysis of all the datasets."
   ]
  },
  {
   "cell_type": "code",
   "execution_count": 10,
   "metadata": {},
   "outputs": [
    {
     "name": "stderr",
     "output_type": "stream",
     "text": [
      "C:\\Users\\Reza\\Anaconda3\\lib\\site-packages\\pandas\\core\\indexing.py:1418: FutureWarning: \n",
      "Passing list-likes to .loc or [] with any missing label will raise\n",
      "KeyError in the future, you can use .reindex() as an alternative.\n",
      "\n",
      "See the documentation here:\n",
      "https://pandas.pydata.org/pandas-docs/stable/user_guide/indexing.html#deprecate-loc-reindex-listlike\n",
      "  return self._getitem_tuple(key)\n"
     ]
    },
    {
     "data": {
      "text/html": [
       "<div>\n",
       "<style scoped>\n",
       "    .dataframe tbody tr th:only-of-type {\n",
       "        vertical-align: middle;\n",
       "    }\n",
       "\n",
       "    .dataframe tbody tr th {\n",
       "        vertical-align: top;\n",
       "    }\n",
       "\n",
       "    .dataframe thead th {\n",
       "        text-align: right;\n",
       "    }\n",
       "</style>\n",
       "<table border=\"1\" class=\"dataframe\">\n",
       "  <thead>\n",
       "    <tr style=\"text-align: right;\">\n",
       "      <th></th>\n",
       "      <th>value_count</th>\n",
       "      <th>value_distinct</th>\n",
       "      <th>num_nans</th>\n",
       "      <th>percent_nans</th>\n",
       "    </tr>\n",
       "  </thead>\n",
       "  <tbody>\n",
       "    <tr>\n",
       "      <td>GKZ</td>\n",
       "      <td>0</td>\n",
       "      <td>1</td>\n",
       "      <td>891221</td>\n",
       "      <td>1.000</td>\n",
       "    </tr>\n",
       "    <tr>\n",
       "      <td>PLZ8</td>\n",
       "      <td>0</td>\n",
       "      <td>1</td>\n",
       "      <td>891221</td>\n",
       "      <td>1.000</td>\n",
       "    </tr>\n",
       "    <tr>\n",
       "      <td>PLZ</td>\n",
       "      <td>0</td>\n",
       "      <td>1</td>\n",
       "      <td>891221</td>\n",
       "      <td>1.000</td>\n",
       "    </tr>\n",
       "    <tr>\n",
       "      <td>EINWOHNER</td>\n",
       "      <td>0</td>\n",
       "      <td>1</td>\n",
       "      <td>891221</td>\n",
       "      <td>1.000</td>\n",
       "    </tr>\n",
       "    <tr>\n",
       "      <td>ARBEIT</td>\n",
       "      <td>794005</td>\n",
       "      <td>7</td>\n",
       "      <td>97216</td>\n",
       "      <td>0.109</td>\n",
       "    </tr>\n",
       "    <tr>\n",
       "      <td>D19_VERSI_ONLINE_DATUM</td>\n",
       "      <td>891221</td>\n",
       "      <td>10</td>\n",
       "      <td>0</td>\n",
       "      <td>0.000</td>\n",
       "    </tr>\n",
       "    <tr>\n",
       "      <td>D19_VERSI_DATUM</td>\n",
       "      <td>891221</td>\n",
       "      <td>10</td>\n",
       "      <td>0</td>\n",
       "      <td>0.000</td>\n",
       "    </tr>\n",
       "    <tr>\n",
       "      <td>D19_VERSI_OFFLINE_DATUM</td>\n",
       "      <td>891221</td>\n",
       "      <td>10</td>\n",
       "      <td>0</td>\n",
       "      <td>0.000</td>\n",
       "    </tr>\n",
       "  </tbody>\n",
       "</table>\n",
       "</div>"
      ],
      "text/plain": [
       "                         value_count  value_distinct  num_nans  percent_nans\n",
       "GKZ                                0               1    891221         1.000\n",
       "PLZ8                               0               1    891221         1.000\n",
       "PLZ                                0               1    891221         1.000\n",
       "EINWOHNER                          0               1    891221         1.000\n",
       "ARBEIT                        794005               7     97216         0.109\n",
       "D19_VERSI_ONLINE_DATUM        891221              10         0         0.000\n",
       "D19_VERSI_DATUM               891221              10         0         0.000\n",
       "D19_VERSI_OFFLINE_DATUM       891221              10         0         0.000"
      ]
     },
     "execution_count": 10,
     "metadata": {},
     "output_type": "execute_result"
    }
   ],
   "source": [
    "unique_attributes_desc_features = list(unique_attributes_desc_features)\n",
    "azdias_subset = azdias.loc[:, unique_attributes_desc_features]\n",
    "feat_info_azdias_subset = build_feat_info(azdias_subset)\n",
    "feat_info_azdias_subset.sort_values(by=['percent_nans'], ascending=False)"
   ]
  },
  {
   "cell_type": "markdown",
   "metadata": {},
   "source": [
    "**Observations:** Features with 100% `NaN` counts can be dropped during the downstream data cleaning process. However, four features: i. `ARBEIT`, ii. `D19_VERSI_DATUM`, iii. `D19_VERSI_OFFLINE_DATUM` iv. `D19_VERSI_ONLINE_DATUM`, have relatively low `NaN` counts. These features should be preserved during data cleaning process. First, let's explore the distinct values for each columns since they are not described in `attributes`."
   ]
  },
  {
   "cell_type": "code",
   "execution_count": 11,
   "metadata": {},
   "outputs": [
    {
     "data": {
      "text/html": [
       "<div>\n",
       "<style scoped>\n",
       "    .dataframe tbody tr th:only-of-type {\n",
       "        vertical-align: middle;\n",
       "    }\n",
       "\n",
       "    .dataframe tbody tr th {\n",
       "        vertical-align: top;\n",
       "    }\n",
       "\n",
       "    .dataframe thead th {\n",
       "        text-align: right;\n",
       "    }\n",
       "</style>\n",
       "<table border=\"1\" class=\"dataframe\">\n",
       "  <thead>\n",
       "    <tr style=\"text-align: right;\">\n",
       "      <th></th>\n",
       "      <th>value_list</th>\n",
       "    </tr>\n",
       "  </thead>\n",
       "  <tbody>\n",
       "    <tr>\n",
       "      <td>D19_VERSI_ONLINE_DATUM</td>\n",
       "      <td>[1, 2, 3, 4, 5, 6, 7, 8, 9, 10]</td>\n",
       "    </tr>\n",
       "    <tr>\n",
       "      <td>ARBEIT</td>\n",
       "      <td>[nan, 1.0, 2.0, 3.0, 4.0, 5.0, 9.0]</td>\n",
       "    </tr>\n",
       "    <tr>\n",
       "      <td>D19_VERSI_DATUM</td>\n",
       "      <td>[1, 2, 3, 4, 5, 6, 7, 8, 9, 10]</td>\n",
       "    </tr>\n",
       "    <tr>\n",
       "      <td>D19_VERSI_OFFLINE_DATUM</td>\n",
       "      <td>[1, 2, 3, 4, 5, 6, 7, 8, 9, 10]</td>\n",
       "    </tr>\n",
       "  </tbody>\n",
       "</table>\n",
       "</div>"
      ],
      "text/plain": [
       "                                                  value_list\n",
       "D19_VERSI_ONLINE_DATUM       [1, 2, 3, 4, 5, 6, 7, 8, 9, 10]\n",
       "ARBEIT                   [nan, 1.0, 2.0, 3.0, 4.0, 5.0, 9.0]\n",
       "D19_VERSI_DATUM              [1, 2, 3, 4, 5, 6, 7, 8, 9, 10]\n",
       "D19_VERSI_OFFLINE_DATUM      [1, 2, 3, 4, 5, 6, 7, 8, 9, 10]"
      ]
     },
     "execution_count": 11,
     "metadata": {},
     "output_type": "execute_result"
    }
   ],
   "source": [
    "# Drop the columns with high NaN percentage from azdias_subset\n",
    "azdias_subset.drop(columns=[\"EINWOHNER\", \"PLZ8\", \"PLZ\", \"GKZ\"], inplace=True)\n",
    "azdias_subset_distinct_val = pd.DataFrame({\n",
    "                                \"value_list\" : [sorted(azdias_subset[x].unique()) for x in azdias_subset.columns]\n",
    "                            }, index = azdias_subset.columns)\n",
    "azdias_subset_distinct_val"
   ]
  },
  {
   "attachments": {},
   "cell_type": "markdown",
   "metadata": {},
   "source": [
    "**Assumption:** Referring to `DIAS Information Levels - Attributes 2017.xlsx`, `ARBEIT` belongs to community level features. Community level features also include `RELAT_AB` whose description is similar to `ARBEIT`. Therefore, value encoded for `RELAT_AB` will be used as reference for `ARBEIT`.\n",
    "\n",
    "`D19_VERSI_DATUM`, `D19_VERSI_OFFLINE_DATUM`, and `D19_VERSI_ONLINE_DATUM` have no missing values and no encoding description is available for these features in `DIAS Attributes - Values 2017.xlsx`. Therefore, these features will remain in the datasets without any modifications."
   ]
  }
 ],
 "metadata": {
  "kernelspec": {
   "display_name": "Python 3",
   "language": "python",
   "name": "python3"
  },
  "language_info": {
   "codemirror_mode": {
    "name": "ipython",
    "version": 3
   },
   "file_extension": ".py",
   "mimetype": "text/x-python",
   "name": "python",
   "nbconvert_exporter": "python",
   "pygments_lexer": "ipython3",
   "version": "3.7.4"
  }
 },
 "nbformat": 4,
 "nbformat_minor": 2
}
