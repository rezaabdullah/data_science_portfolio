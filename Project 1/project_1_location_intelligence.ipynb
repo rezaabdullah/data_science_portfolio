{
 "cells": [
  {
   "cell_type": "markdown",
   "metadata": {},
   "source": [
    "### Objective\n",
    "In this project we will explore how geospatial data can help media owners and media buyers with decision making in OOH marketing & advertising.\n",
    "### Problem Statement\n",
    "1. Where should brand owner or media buyer display their content to maximize the number of audiences?\n",
    "2. Is there any correlation among hour, number of POIs (Point of Interest), number of roads and number of audiences?\n",
    "3. Where should media owners build their next billboard?\n",
    "\n",
    "### Brief Overview of the Data\n",
    "The dataset has 13 features:\n",
    "1. latitude\n",
    "2. longitude\n",
    "3. districtName\n",
    "4. date\n",
    "5. Hour\n",
    "6. count_id\n",
    "7. motorway\n",
    "8. trunk\n",
    "9. primary\n",
    "10. secondary\n",
    "11. tertiary\n",
    "12. count_poi\n",
    "13. billboard_object_id\n",
    "14. total_num_road"
   ]
  },
  {
   "cell_type": "code",
   "execution_count": 1,
   "metadata": {},
   "outputs": [],
   "source": [
    "# Import packages\n",
    "import pandas as pd\n",
    "import numpy as np\n",
    "import plotly.express as px\n",
    "import json\n",
    "import matplotlib.pyplot as plt\n",
    "import seaborn as sns\n",
    "%matplotlib inline"
   ]
  },
  {
   "cell_type": "code",
   "execution_count": 2,
   "metadata": {},
   "outputs": [
    {
     "name": "stdout",
     "output_type": "stream",
     "text": [
      "   latitude   longitude  districtName      date  hour  count_id  motorway  \\\n",
      "0  3.213979  101.638397  TAMAN KEPONG  1/1/2020     0        23       NaN   \n",
      "1  3.213979  101.638397  TAMAN KEPONG  1/1/2020     1        33       NaN   \n",
      "2  3.213979  101.638397  TAMAN KEPONG  1/1/2020     2        31       NaN   \n",
      "3  3.213979  101.638397  TAMAN KEPONG  1/1/2020     3        31       NaN   \n",
      "4  3.213979  101.638397  TAMAN KEPONG  1/1/2020     4        57       NaN   \n",
      "\n",
      "   trunk  primary  secondary  tertiary  count_poi  \\\n",
      "0    NaN     14.0        7.0       NaN         16   \n",
      "1    NaN     14.0        7.0       NaN         16   \n",
      "2    NaN     14.0        7.0       NaN         16   \n",
      "3    NaN     14.0        7.0       NaN         16   \n",
      "4    NaN     14.0        7.0       NaN         16   \n",
      "\n",
      "                                 billboard_object_id  total_num_road  \n",
      "0  BBFDEFB262A6E49AB168FCB59FD049733B95A49E7DCCDB...              21  \n",
      "1  BBFDEFB262A6E49AB168FCB59FD049733B95A49E7DCCDB...              21  \n",
      "2  BBFDEFB262A6E49AB168FCB59FD049733B95A49E7DCCDB...              21  \n",
      "3  BBFDEFB262A6E49AB168FCB59FD049733B95A49E7DCCDB...              21  \n",
      "4  BBFDEFB262A6E49AB168FCB59FD049733B95A49E7DCCDB...              21  \n"
     ]
    }
   ],
   "source": [
    "# Read CSV\n",
    "df = pd.read_csv(\"kl_billboard.csv\")\n",
    "print(df.head())"
   ]
  },
  {
   "cell_type": "markdown",
   "metadata": {},
   "source": [
    "### Data Exploration"
   ]
  },
  {
   "cell_type": "code",
   "execution_count": 12,
   "metadata": {},
   "outputs": [
    {
     "name": "stdout",
     "output_type": "stream",
     "text": [
      "           latitude     longitude          hour      count_id     count_poi  \\\n",
      "count  88314.000000  88314.000000  88314.000000  88314.000000  88314.000000   \n",
      "mean       3.140651    101.691464     11.561655    185.677378     57.789071   \n",
      "std        0.034504      0.029697      6.915107    266.904217     80.320518   \n",
      "min        3.048565    101.615531      0.000000      1.000000      0.000000   \n",
      "25%        3.120596    101.672947      6.000000     33.000000      6.000000   \n",
      "50%        3.146153    101.697026     12.000000     78.000000     23.000000   \n",
      "75%        3.159815    101.712178     18.000000    215.000000     80.000000   \n",
      "max        3.242625    101.749957     23.000000   2171.000000    365.000000   \n",
      "\n",
      "       total_num_road  \n",
      "count    88314.000000  \n",
      "mean        42.721177  \n",
      "std         26.852819  \n",
      "min          0.000000  \n",
      "25%         23.000000  \n",
      "50%         37.000000  \n",
      "75%         57.000000  \n",
      "max        131.000000  \n"
     ]
    }
   ],
   "source": [
    "# Describe the dataset\n",
    "print(df.describe())"
   ]
  },
  {
   "cell_type": "code",
   "execution_count": 13,
   "metadata": {},
   "outputs": [
    {
     "name": "stdout",
     "output_type": "stream",
     "text": [
      "latitude               False\n",
      "longitude              False\n",
      "districtName           False\n",
      "date                   False\n",
      "hour                   False\n",
      "count_id               False\n",
      "count_poi              False\n",
      "billboard_object_id    False\n",
      "total_num_road         False\n",
      "dtype: bool\n"
     ]
    }
   ],
   "source": [
    "# Find features that has missing value\n",
    "print(df.isna().any())"
   ]
  },
  {
   "cell_type": "code",
   "execution_count": 4,
   "metadata": {},
   "outputs": [
    {
     "name": "stdout",
     "output_type": "stream",
     "text": [
      "   latitude   longitude  districtName      date  hour  count_id  count_poi  \\\n",
      "0  3.213979  101.638397  TAMAN KEPONG  1/1/2020     0        23         16   \n",
      "1  3.213979  101.638397  TAMAN KEPONG  1/1/2020     1        33         16   \n",
      "2  3.213979  101.638397  TAMAN KEPONG  1/1/2020     2        31         16   \n",
      "3  3.213979  101.638397  TAMAN KEPONG  1/1/2020     3        31         16   \n",
      "4  3.213979  101.638397  TAMAN KEPONG  1/1/2020     4        57         16   \n",
      "\n",
      "                                 billboard_object_id  total_num_road  \n",
      "0  BBFDEFB262A6E49AB168FCB59FD049733B95A49E7DCCDB...              21  \n",
      "1  BBFDEFB262A6E49AB168FCB59FD049733B95A49E7DCCDB...              21  \n",
      "2  BBFDEFB262A6E49AB168FCB59FD049733B95A49E7DCCDB...              21  \n",
      "3  BBFDEFB262A6E49AB168FCB59FD049733B95A49E7DCCDB...              21  \n",
      "4  BBFDEFB262A6E49AB168FCB59FD049733B95A49E7DCCDB...              21  \n"
     ]
    }
   ],
   "source": [
    "# Since the total number of roads are present, we can drop different types of roads such as motorway, trunk etc.\n",
    "df.drop(columns = [\"motorway\", \"trunk\", \"primary\", \"secondary\", \"tertiary\"], inplace = True)\n",
    "print(df.head())"
   ]
  },
  {
   "cell_type": "markdown",
   "metadata": {},
   "source": [
    "### Question 1\n",
    "Where should brand owner or media buyer display their content to maximize the number of audiences?"
   ]
  },
  {
   "cell_type": "code",
   "execution_count": 5,
   "metadata": {},
   "outputs": [
    {
     "name": "stdout",
     "output_type": "stream",
     "text": [
      "(1237, 6)\n"
     ]
    },
    {
     "data": {
      "image/png": "[encoded data removed]",
      "text/plain": [
       "<Figure size 432x288 with 1 Axes>"
      ]
     },
     "metadata": {
      "needs_background": "light"
     },
     "output_type": "display_data"
    }
   ],
   "source": [
    "# Find the total number of mobile devices around the billboard\n",
    "df_total_audience = df.groupby([\"billboard_object_id\", \"districtName\", \"latitude\", \"longitude\"], as_index = False) \\\n",
    "                        [[\"count_id\"]].sum()\n",
    "df_total_audience.sort_values(by = [\"count_id\"], ascending = False, inplace = True)\n",
    "\n",
    "# Determine percentage rank\n",
    "df_total_audience[\"pcnt_rank\"] = df_total_audience[\"count_id\"].rank(method = \"max\", pct=True)\n",
    "\n",
    "# Determine the shape of the dataframe where total number of rows corresponds to total number of billboards\n",
    "print(df_total_audience.shape)\n",
    "\n",
    "# Plot a histogram with 10 bins to find the distribution of audiences around the billboard\n",
    "hist = df_total_audience[[\"billboard_object_id\", \"count_id\"]].hist(bins=10)"
   ]
  },
  {
   "cell_type": "markdown",
   "metadata": {},
   "source": [
    "**Analysis:** Out of 1237, more than half of the billboards have potential reach below 10,000."
   ]
  },
  {
   "cell_type": "markdown",
   "metadata": {},
   "source": [
    "### Visualization on the Map"
   ]
  },
  {
   "cell_type": "code",
   "execution_count": 1,
   "metadata": {},
   "outputs": [
    {
     "ename": "NameError",
     "evalue": "name 'df_total_audience' is not defined",
     "output_type": "error",
     "traceback": [
      "\u001b[1;31m---------------------------------------------------------------------------\u001b[0m",
      "\u001b[1;31mNameError\u001b[0m                                 Traceback (most recent call last)",
      "\u001b[1;32m<ipython-input-1-44f47a28559d>\u001b[0m in \u001b[0;36m<module>\u001b[1;34m\u001b[0m\n\u001b[0;32m      1\u001b[0m \u001b[1;31m# Divide billboards into 10 bins based on percentage rank\u001b[0m\u001b[1;33m\u001b[0m\u001b[1;33m\u001b[0m\u001b[1;33m\u001b[0m\u001b[0m\n\u001b[0;32m      2\u001b[0m conditions = [\n\u001b[1;32m----> 3\u001b[1;33m     \u001b[1;33m(\u001b[0m\u001b[0mdf_total_audience\u001b[0m\u001b[1;33m[\u001b[0m\u001b[1;34m'pcnt_rank'\u001b[0m\u001b[1;33m]\u001b[0m \u001b[1;33m>=\u001b[0m \u001b[1;36m0.9\u001b[0m\u001b[1;33m)\u001b[0m\u001b[1;33m,\u001b[0m\u001b[1;33m\u001b[0m\u001b[1;33m\u001b[0m\u001b[0m\n\u001b[0m\u001b[0;32m      4\u001b[0m     \u001b[1;33m(\u001b[0m\u001b[0mdf_total_audience\u001b[0m\u001b[1;33m[\u001b[0m\u001b[1;34m'pcnt_rank'\u001b[0m\u001b[1;33m]\u001b[0m \u001b[1;33m>=\u001b[0m \u001b[1;36m0.8\u001b[0m\u001b[1;33m)\u001b[0m \u001b[1;33m&\u001b[0m \u001b[1;33m(\u001b[0m\u001b[0mdf_total_audience\u001b[0m\u001b[1;33m[\u001b[0m\u001b[1;34m'pcnt_rank'\u001b[0m\u001b[1;33m]\u001b[0m \u001b[1;33m<\u001b[0m \u001b[1;36m0.9\u001b[0m\u001b[1;33m)\u001b[0m\u001b[1;33m,\u001b[0m\u001b[1;33m\u001b[0m\u001b[1;33m\u001b[0m\u001b[0m\n\u001b[0;32m      5\u001b[0m     \u001b[1;33m(\u001b[0m\u001b[0mdf_total_audience\u001b[0m\u001b[1;33m[\u001b[0m\u001b[1;34m'pcnt_rank'\u001b[0m\u001b[1;33m]\u001b[0m \u001b[1;33m>=\u001b[0m \u001b[1;36m0.7\u001b[0m\u001b[1;33m)\u001b[0m \u001b[1;33m&\u001b[0m \u001b[1;33m(\u001b[0m\u001b[0mdf_total_audience\u001b[0m\u001b[1;33m[\u001b[0m\u001b[1;34m'pcnt_rank'\u001b[0m\u001b[1;33m]\u001b[0m \u001b[1;33m<\u001b[0m \u001b[1;36m0.8\u001b[0m\u001b[1;33m)\u001b[0m\u001b[1;33m,\u001b[0m\u001b[1;33m\u001b[0m\u001b[1;33m\u001b[0m\u001b[0m\n",
      "\u001b[1;31mNameError\u001b[0m: name 'df_total_audience' is not defined"
     ]
    }
   ],
   "source": [
    "# Divide billboards into 10 bins based on percentage rank\n",
    "conditions = [\n",
    "    (df_total_audience['pcnt_rank'] >= 0.9),\n",
    "    (df_total_audience['pcnt_rank'] >= 0.8) & (df_total_audience['pcnt_rank'] < 0.9),\n",
    "    (df_total_audience['pcnt_rank'] >= 0.7) & (df_total_audience['pcnt_rank'] < 0.8),\n",
    "    (df_total_audience['pcnt_rank'] >= 0.6) & (df_total_audience['pcnt_rank'] < 0.7),\n",
    "    (df_total_audience['pcnt_rank'] >= 0.5) & (df_total_audience['pcnt_rank'] < 0.6),\n",
    "    (df_total_audience['pcnt_rank'] >= 0.4) & (df_total_audience['pcnt_rank'] < 0.5),\n",
    "    (df_total_audience['pcnt_rank'] >= 0.3) & (df_total_audience['pcnt_rank'] < 0.4),\n",
    "    (df_total_audience['pcnt_rank'] >= 0.2) & (df_total_audience['pcnt_rank'] < 0.3),\n",
    "    (df_total_audience['pcnt_rank'] >= 0.1) & (df_total_audience['pcnt_rank'] < 0.2),\n",
    "    (df_total_audience['pcnt_rank'] >= 0.0) & (df_total_audience['pcnt_rank'] < 0.1)\n",
    "    ]\n",
    "\n",
    "# create a list of the values we want to assign for each condition\n",
    "values = [10, 9, 8, 7, 6, 5, 4, 3, 2, 1]\n",
    "\n",
    "# create a new column and use np.select to assign values to it using our lists as arguments\n",
    "df_total_audience['tier'] = np.select(conditions, values)"
   ]
  },
  {
   "cell_type": "markdown",
   "metadata": {},
   "source": [
    "**Note:** The following plot is ONLY available with mapbox token. Mapbox token was not added with the repository for security\n",
    "purpose. You can sign in and get you own mapbox token from https://www.mapbox.com/\n",
    "\n",
    "Once you have the mapbox token, you can run the following code for interactive scatter plot map.\n",
    "```\n",
    "# Read Mapbox token\n",
    "px.set_mapbox_access_token(open(\".mapbox_token\").read())\n",
    "\n",
    "# Display data on the map\n",
    "fig = px.scatter_mapbox(df_total_audience, lat=\"latitude\", lon=\"longitude\", \n",
    "                        color=\"count_id\", size=\"tier\", size_max=20, zoom=10)\n",
    "fig.show()\n",
    "```\n",
    "\n",
    "**Output**\n",
    "\n",
    "![Scatter Plot Entire KL](scatter_plot_1.png)\n",
    "\n",
    "![Scatter Plot with Highest Reach](scatter_plot_1.png)\n",
    "\n",
    "![Scatter Plot with Highest Reach](scatter_plot_2.png)\n",
    "\n",
    "![Scatter Plot with Highest Reach](scatter_plot_3.png)"
   ]
  },
  {
   "cell_type": "markdown",
   "metadata": {},
   "source": [
    "**Analysis:** Billboards marks with yellow or orange should be targeted to maximize number of audiences. The plot is interactive. Please use the zoom tool to have a closer look."
   ]
  },
  {
   "cell_type": "markdown",
   "metadata": {},
   "source": [
    "### Question 2\n",
    "Is there any correlation among hour, number of POIs (Point of Interest), number of roads and number of audiences?"
   ]
  },
  {
   "cell_type": "code",
   "execution_count": 7,
   "metadata": {},
   "outputs": [
    {
     "name": "stdout",
     "output_type": "stream",
     "text": [
      "   latitude   longitude  districtName      date  hour  count_id  count_poi  \\\n",
      "0  3.213979  101.638397  TAMAN KEPONG  1/1/2020     0        23         16   \n",
      "1  3.213979  101.638397  TAMAN KEPONG  1/1/2020     1        33         16   \n",
      "2  3.213979  101.638397  TAMAN KEPONG  1/1/2020     2        31         16   \n",
      "3  3.213979  101.638397  TAMAN KEPONG  1/1/2020     3        31         16   \n",
      "4  3.213979  101.638397  TAMAN KEPONG  1/1/2020     4        57         16   \n",
      "\n",
      "                                 billboard_object_id  total_num_road  \n",
      "0  BBFDEFB262A6E49AB168FCB59FD049733B95A49E7DCCDB...              21  \n",
      "1  BBFDEFB262A6E49AB168FCB59FD049733B95A49E7DCCDB...              21  \n",
      "2  BBFDEFB262A6E49AB168FCB59FD049733B95A49E7DCCDB...              21  \n",
      "3  BBFDEFB262A6E49AB168FCB59FD049733B95A49E7DCCDB...              21  \n",
      "4  BBFDEFB262A6E49AB168FCB59FD049733B95A49E7DCCDB...              21  \n"
     ]
    }
   ],
   "source": [
    "print(df.head())"
   ]
  },
  {
   "cell_type": "code",
   "execution_count": 8,
   "metadata": {},
   "outputs": [
    {
     "data": {
      "image/png": "[encoded data removed]",
      "text/plain": [
       "<Figure size 432x288 with 2 Axes>"
      ]
     },
     "metadata": {
      "needs_background": "light"
     },
     "output_type": "display_data"
    }
   ],
   "source": [
    "# Group by the number of audiences based on hour and number of POIs\n",
    "df_poi_hour = df.groupby([\"count_poi\", \"hour\", \"total_num_road\"])[[\"count_id\"]].sum()\n",
    "df_poi_hour.reset_index(inplace = True)\n",
    "\n",
    "# Determine correlation matrix\n",
    "sns.heatmap(df_poi_hour.corr(), annot=True, fmt = \"0.2f\")\n",
    "plt.show()"
   ]
  },
  {
   "cell_type": "markdown",
   "metadata": {},
   "source": [
    "**Analysis:** The correlation between number of POIs and the number of audiences around the billboard are comaparatively higher than correlation between hour and number of audiences. Additionally, number of roads around the billboard has low correlation with number of audiences."
   ]
  },
  {
   "cell_type": "markdown",
   "metadata": {},
   "source": [
    "### Question 3\n",
    "Where should media owners build their next billboard?"
   ]
  },
  {
   "cell_type": "code",
   "execution_count": 9,
   "metadata": {},
   "outputs": [
    {
     "name": "stdout",
     "output_type": "stream",
     "text": [
      "['BRICKFIELDS SELATAN' 'BRICKFIELDS UTARA' 'BUKIT NANAS' 'BUKIT PETALING'\n",
      " 'BUKIT TRAVERS' 'BUKIT WELD' 'CHANGKAT RAJA CHULAN' 'IMBI PASAR'\n",
      " 'JALAN MELAYU' 'JALAN RAJA MUDA' 'JALAN SULTAN' 'JALAN TUN SAMBANTHAN'\n",
      " 'KAMPONG HAJI ABDULLAH HUKOM' 'KAMPONG LOKE YUEN' 'KAMPONG PANTAI HALT'\n",
      " 'LEBOHRAYA FOCH' 'MEDAN PASAR' 'PANTAI BAHARU' 'PERSIARAN SYED PUTRA'\n",
      " 'TAMAN BUNGA' 'TIONG NAM']\n"
     ]
    }
   ],
   "source": [
    "# Determine the districts that should be targeted for building a new billboard\n",
    "# Count the number of billboards for each tier in a district.\n",
    "df_area = df_total_audience.groupby([\"districtName\", \"tier\"], as_index = False)[[\"billboard_object_id\"]].count()\n",
    "\n",
    "# Choose districts with tier 9 or 10\n",
    "print(df_area[df_area.tier >= 9].districtName.unique())"
   ]
  },
  {
   "cell_type": "markdown",
   "metadata": {},
   "source": [
    "### Conclusion\n",
    "In this project we analyze the geospatial data to make better marketing and advertising decisions.\n",
    "\n",
    "We identified the billboards that can optimize audience reach, determined correlation among hour of the day, number of POIs, number of roads and number of audiences. Lastly, we identified the area where media owners should invest for next billboard."
   ]
  }
 ],
 "metadata": {
  "kernelspec": {
   "display_name": "Python 3",
   "language": "python",
   "name": "python3"
  },
  "language_info": {
   "codemirror_mode": {
    "name": "ipython",
    "version": 3
   },
   "file_extension": ".py",
   "mimetype": "text/x-python",
   "name": "python",
   "nbconvert_exporter": "python",
   "pygments_lexer": "ipython3",
   "version": "3.7.4"
  }
 },
 "nbformat": 4,
 "nbformat_minor": 2
}
