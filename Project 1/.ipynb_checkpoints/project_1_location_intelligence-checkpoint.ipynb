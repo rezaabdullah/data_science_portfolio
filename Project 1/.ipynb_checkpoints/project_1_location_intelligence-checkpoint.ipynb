{
 "cells": [
  {
   "cell_type": "markdown",
   "metadata": {},
   "source": [
    "### Objective\n",
    "In this project we will explore how geospatial data can optimize OOH marketing & advertising.\n",
    "### Problem Statement\n",
    "Overlay consumers' mobile device data with other data sources to answer following three questions:\n",
    "1. Which billboards have the highest potential reach i.e. number of unique audiences?\n",
    "2. When (time of the day) are the audiences most likely to see the advertisement?\n",
    "3. Where should I build my next billboard?\n",
    "\n",
    "### Brief Overview of the Data\n",
    "**Mobile Device Data:** Consumers' data that has following features:\n",
    "1. advertising_id\n",
    "2. latitude\n",
    "3. longitude\n",
    "4. unix_timestamp\n",
    "5. place_name\n",
    "6. brand_name\n",
    "7. category_name\n",
    "\n",
    "**Note:** *Please note that actual advertising_id has been encrypted to protect Personally Identifiable Information (PII).*\n",
    "**Note:** *Provided sample file has been preprocessed to some extent. It excludes place_name, brand_name and category_name.*\n",
    "\n",
    "**Billboard Locations:** It has following features:\n",
    "1. billboard_object_id\n",
    "5. latitude\n",
    "6. longitude\n",
    "7. type\n",
    "\n",
    "**District Map:** Shapefile of the map of the city. To learn more about shapefile, refer [here](https://desktop.arcgis.com/en/arcmap/10.3/manage-data/shapefiles/what-is-a-shapefile.htm#:~:text=A%20shapefile%20is%20a%20simple,%2C%20or%20polygons%20(areas))."
   ]
  },
  {
   "cell_type": "code",
   "execution_count": 1,
   "metadata": {},
   "outputs": [],
   "source": [
    "# Import modules\n",
    "import pandas as pd\n",
    "import numpy as np\n",
    "import matplotlib.pyplot as plt\n",
    "import json\n",
    "\n",
    "# To process mobile device data (> 3GB)\n",
    "from pyspark.sql.functions import round, udf, col, hour, minute\n",
    "from pyspark.sql import SparkSession\n",
    "from pyspark.sql.types import DateType, TimestampType\n",
    "\n",
    "# To process shapefile\n",
    "import geopandas as gpd\n",
    "\n",
    "# To perform spatial join efficiently\n",
    "from dask import dataframe as dd\n",
    "import dask.distributed\n",
    "\n",
    "# To visualize the data\n",
    "import plotly.graph_objects as go\n",
    "import plotly.express as px\n",
    "import json"
   ]
  },
  {
   "cell_type": "code",
   "execution_count": 3,
   "metadata": {},
   "outputs": [],
   "source": [
    "# Input files\n",
    "kl_shapefile = \"kl_map\\kl_map.shp\"\n",
    "device_id = \"kl_test_device_id.csv\"\n",
    "billboard_location = \"kl_billboard.csv\""
   ]
  },
  {
   "cell_type": "markdown",
   "metadata": {},
   "source": [
    "### Joining Billboard Locations with District Map\n",
    "Billboard locations will be joined with district map to determine in which district a billboard is located. The information is useful for media owners in which district they need to build their next billboard."
   ]
  },
  {
   "cell_type": "code",
   "execution_count": 4,
   "metadata": {},
   "outputs": [],
   "source": [
    "# Create function to join billboard_location with kl_shapefile\n",
    "def joinPolygonPoint(df, lat, lon, location):\n",
    "    # Load KL shape file\n",
    "    gdf = gpd.read_file(kl_shapefile)\n",
    "    gdf.crs = {'init' :'epsg:4326'}\n",
    "    \n",
    "    # Create copy of dataframe\n",
    "    local_df = df.copy()\n",
    "    \n",
    "    # Convert dask dataframe to geodataframe and perform spatial join\n",
    "    try:\n",
    "        joined_df = gpd.GeoDataFrame(local_df, crs={'init': 'epsg:4326'}, geometry = gpd.points_from_xy(df.longitude, df.latitude))\n",
    "        joined_df = gpd.sjoin(adId, gdf, how = \"left\", op = \"within\")\n",
    "        joined_df.drop(\"geometry\", axis = 1, inplace = True)\n",
    "        return joined_df.NAMA_DM\n",
    "    except ValueError as ve:\n",
    "        print(ve)\n",
    "        print(ve.stacktrace())"
   ]
  },
  {
   "cell_type": "code",
   "execution_count": 6,
   "metadata": {},
   "outputs": [
    {
     "name": "stdout",
     "output_type": "stream",
     "text": [
      "There are 1 partitions. \n",
      "   latitude   longitude    type  \\\n",
      "0  3.213979  101.638397  STATIC   \n",
      "1  3.214458  101.642018  STATIC   \n",
      "2  3.228400  101.643491  STATIC   \n",
      "3  3.227013  101.637439  STATIC   \n",
      "4  3.227240  101.637501  STATIC   \n",
      "\n",
      "                                 billboard_object_id  \n",
      "0  BBFDEFB262A6E49AB168FCB59FD049733B95A49E7DCCDB...  \n",
      "1  C678ECDE8AD8F4B9D37F16D2ACCB39E870E97231719934...  \n",
      "2  00DCABF68CAE73603FBC342890CBC5670E720316F1CC4A...  \n",
      "3  D8F7048E3F00D50AC0390FACF8A64BEBD9857A456AC337...  \n",
      "4  287DB8C2BB57EE452DBBFFE282EFCBE2C05920B27A6A12...  \n"
     ]
    }
   ],
   "source": [
    "# Load billboard data\n",
    "billboard = dd.read_csv(billboard_location, encoding= 'unicode_escape')\n",
    "print(\"There are {} partitions. \".format(billboard.npartitions))\n",
    "print(billboard.head())"
   ]
  },
  {
   "cell_type": "code",
   "execution_count": null,
   "metadata": {},
   "outputs": [],
   "source": []
  }
 ],
 "metadata": {
  "kernelspec": {
   "display_name": "Python 3",
   "language": "python",
   "name": "python3"
  },
  "language_info": {
   "codemirror_mode": {
    "name": "ipython",
    "version": 3
   },
   "file_extension": ".py",
   "mimetype": "text/x-python",
   "name": "python",
   "nbconvert_exporter": "python",
   "pygments_lexer": "ipython3",
   "version": "3.7.4"
  }
 },
 "nbformat": 4,
 "nbformat_minor": 2
}
