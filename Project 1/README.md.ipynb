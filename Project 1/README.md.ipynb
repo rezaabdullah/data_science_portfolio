{
 "cells": [
  {
   "cell_type": "markdown",
   "metadata": {},
   "source": [
    "# Introduction to Data Science\n",
    "### Project 1 & 2\n",
    "In this project, you will be applying to CRISP-DM (Cross-industry Process for Data Mining) methodology to solve data science problem. The methodology has six steps:\n",
    "1. Business understanding\n",
    "2. Data understanding\n",
    "3. Data preparation\n",
    "4. Modeling\n",
    "5. Evaluation\n",
    "6. Deployment\n",
    "\n",
    "### 1. Business Understanding\n",
    "While various digital marketing tools make it easier to track online behavior, consumers' offline behavior is hard to collect and even harder to draw insights from. However, abundance of geospatial data from mobile devices can help us determining consumers' offline behavior. The insights from the analysis can help brands to strategize their marketing plan for Out-of-Home (OOH) marketing and advertising. In this project we are trying to analyze data for billboards and the questions we're trying to answer are listed below:\n",
    "1. Where should brand owner or media buyer display their content to maximize the number of audiences?\n",
    "2. Is there any correlation among hour, number of POIs (Point of Interest), number of roads and number of audiences?\n",
    "3. Where should media owners build their next billboard?\n",
    "\n",
    "### 2. Data Understanding\n",
    "The data source contains location data (latitude, longitude) as well as time (hour). In addition, the dataset includes regional information as well as number of audiences around the billboard.\n",
    "\n",
    "**Note:** The data sources have been merged and partially cleaned. The preprocessing of raw data is not included in this project as it is beyond the scope of the project at this moment.\n",
    "\n",
    "### 3. Data Preparation\n",
    "Data preparation mostly involves cleaning the missing data.\n",
    "\n",
    "### 4. Modeling\n",
    "No predictive modeling was necessary to answer the questions.\n",
    "\n",
    "### 5. Evaluation\n",
    "N/A\n",
    "\n",
    "### 6. Deployment\n",
    "N/A"
   ]
  },
  {
   "cell_type": "markdown",
   "metadata": {},
   "source": []
  }
 ],
 "metadata": {
  "kernelspec": {
   "display_name": "Python 3",
   "language": "python",
   "name": "python3"
  },
  "language_info": {
   "codemirror_mode": {
    "name": "ipython",
    "version": 3
   },
   "file_extension": ".py",
   "mimetype": "text/x-python",
   "name": "python",
   "nbconvert_exporter": "python",
   "pygments_lexer": "ipython3",
   "version": "3.7.4"
  }
 },
 "nbformat": 4,
 "nbformat_minor": 2
}
