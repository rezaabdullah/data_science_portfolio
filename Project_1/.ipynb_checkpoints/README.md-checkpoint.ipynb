{
 "cells": [
  {
   "cell_type": "markdown",
   "metadata": {},
   "source": [
    "# Introduction to Data Science\n",
    "In this project, you will be applying to CRISP-DM (Cross-industry Process for Data Mining) methodology to solve data science problem. The methodology has six steps:\n",
    "1. Business understanding\n",
    "2. Data understanding\n",
    "3. Data preparation\n",
    "4. Modeling\n",
    "5. Evaluation\n",
    "6. Deployment\n",
    "\n",
    "#### 1. Business Understanding\n",
    "While various digital marketing tools make it easier to track online behavior, consumers' offline behavior is hard to collect and even harder to draw insights from. However, abundance of geospatial data from mobile devices can help us determining consumers' offline behavior. The insights draw from the analysis can help brands to strategize their marketing plan for Out-of-Home (OOH) marketing and advertising. Questions that we're trying to answer are listed below:\n",
    "1. Which billboards have the highest potential reach i.e. number of unique audiences?\n",
    "2. When (time of the day) are the audiences most likely to see the advertisement?\n",
    "3. Where should I build my next billboard?\n",
    "\n",
    "#### 2. Data Understanding\n",
    "There are three data sources:\n",
    "1. Consumer Data: Data originated from consumers' devices which provide coordinates and the timestamp\n",
    "2. Survey Data: Data i.e. map of subdistricts surveyed by city officials or government\n",
    "3. Billboard Locations: Coordinates for billboards\n",
    "This project focuses on spatiotemporal analysis, and will ignore categorical variables that are present in consumer data.\n",
    "\n",
    "**Note:** Due to large volume of consumer data, a sample data file is uploaded."
   ]
  },
  {
   "cell_type": "markdown",
   "metadata": {},
   "source": []
  }
 ],
 "metadata": {
  "kernelspec": {
   "display_name": "Python 3",
   "language": "python",
   "name": "python3"
  },
  "language_info": {
   "codemirror_mode": {
    "name": "ipython",
    "version": 3
   },
   "file_extension": ".py",
   "mimetype": "text/x-python",
   "name": "python",
   "nbconvert_exporter": "python",
   "pygments_lexer": "ipython3",
   "version": "3.7.4"
  }
 },
 "nbformat": 4,
 "nbformat_minor": 2
}
